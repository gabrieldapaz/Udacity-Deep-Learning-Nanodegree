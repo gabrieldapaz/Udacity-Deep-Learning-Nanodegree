{
 "cells": [
  {
   "cell_type": "code",
   "execution_count": 1,
   "id": "31de764b",
   "metadata": {},
   "outputs": [],
   "source": [
    "import numpy as np"
   ]
  },
  {
   "cell_type": "code",
   "execution_count": 8,
   "id": "290bbf81",
   "metadata": {},
   "outputs": [],
   "source": [
    "# Write a function that takes as input a list of numbers, and returns\n",
    "# the list of values given by the softmax function.\n",
    "def softmax(L):\n",
    "    \n",
    "    arr_softmax = []\n",
    "    \n",
    "    for score in L:\n",
    "        prob = np.exp(score)\n",
    "        \n",
    "        # Denominator\n",
    "        den = sum([np.exp(score) for score in range(0, len(L))])\n",
    "        \n",
    "        arr_softmax.append(prob/den)\n",
    "        \n",
    "    return arr_softmax"
   ]
  },
  {
   "cell_type": "code",
   "execution_count": 9,
   "id": "ab9265cf",
   "metadata": {},
   "outputs": [
    {
     "data": {
      "text/plain": [
       "[0.6652409557748219, 0.24472847105479764, 0.09003057317038046]"
      ]
     },
     "execution_count": 9,
     "metadata": {},
     "output_type": "execute_result"
    }
   ],
   "source": [
    "softmax([2, 1, 0])"
   ]
  }
 ],
 "metadata": {
  "kernelspec": {
   "display_name": "Python [conda env:dlnd] *",
   "language": "python",
   "name": "conda-env-dlnd-py"
  },
  "language_info": {
   "codemirror_mode": {
    "name": "ipython",
    "version": 3
   },
   "file_extension": ".py",
   "mimetype": "text/x-python",
   "name": "python",
   "nbconvert_exporter": "python",
   "pygments_lexer": "ipython3",
   "version": "3.7.11"
  }
 },
 "nbformat": 4,
 "nbformat_minor": 5
}
