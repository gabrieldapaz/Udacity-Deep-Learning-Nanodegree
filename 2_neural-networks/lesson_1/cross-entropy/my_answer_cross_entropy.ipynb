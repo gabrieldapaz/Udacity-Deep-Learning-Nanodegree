{
 "cells": [
  {
   "cell_type": "code",
   "execution_count": 1,
   "id": "4e8987bc",
   "metadata": {},
   "outputs": [],
   "source": [
    "import numpy as np"
   ]
  },
  {
   "cell_type": "code",
   "execution_count": 5,
   "id": "4c22d69d",
   "metadata": {},
   "outputs": [],
   "source": [
    "# Write a function that takes as input two lists Y, P,\n",
    "# and returns the float corresponding to their cross-entropy.\n",
    "def cross_entropy(Y, P):\n",
    "    \n",
    "    sum_ce = 0\n",
    "    \n",
    "    for i in range(0, len(Y)):\n",
    "        sum_ce += -(Y[i]*np.log(P[i]) + (1 - Y[i])*np.log(1 - P[i]))\n",
    "        \n",
    "    return sum_ce"
   ]
  },
  {
   "cell_type": "code",
   "execution_count": 8,
   "id": "674e4274",
   "metadata": {},
   "outputs": [
    {
     "data": {
      "text/plain": [
       "0.6851790109107685"
      ]
     },
     "execution_count": 8,
     "metadata": {},
     "output_type": "execute_result"
    }
   ],
   "source": [
    "cross_entropy([1, 1, 0], (0.8, 0.7, 0.1))"
   ]
  },
  {
   "cell_type": "code",
   "execution_count": 9,
   "id": "41cecd3a",
   "metadata": {},
   "outputs": [
    {
     "data": {
      "text/plain": [
       "5.115995809754082"
      ]
     },
     "execution_count": 9,
     "metadata": {},
     "output_type": "execute_result"
    }
   ],
   "source": [
    "cross_entropy([0, 0, 1], (0.8, 0.7, 0.1))"
   ]
  }
 ],
 "metadata": {
  "kernelspec": {
   "display_name": "Python [conda env:dlnd] *",
   "language": "python",
   "name": "conda-env-dlnd-py"
  },
  "language_info": {
   "codemirror_mode": {
    "name": "ipython",
    "version": 3
   },
   "file_extension": ".py",
   "mimetype": "text/x-python",
   "name": "python",
   "nbconvert_exporter": "python",
   "pygments_lexer": "ipython3",
   "version": "3.7.11"
  }
 },
 "nbformat": 4,
 "nbformat_minor": 5
}
